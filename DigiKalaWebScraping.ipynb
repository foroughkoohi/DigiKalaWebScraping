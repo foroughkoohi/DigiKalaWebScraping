{
 "cells": [
  {
   "cell_type": "markdown",
   "id": "26a3c1c2",
   "metadata": {},
   "source": [
    "<h1 style=\"font-family: Times New Roman\" color=\"blue\">DigiKala Web Scraping Module</h1>"
   ]
  },
  {
   "cell_type": "markdown",
   "id": "00f7c3e1",
   "metadata": {},
   "source": [
    "<div class=\"alert alert-block alert-info\" style=\"font-family: Times New Roman; font-size:17px\">\n",
    "Beta version\n",
    "</div>"
   ]
  },
  {
   "cell_type": "markdown",
   "id": "17485625",
   "metadata": {},
   "source": [
    "<div class=\"alert alert-block alert-success\" style=\"font-family: Times New Roman; font-size:17px\">\n",
    "Import libraries\n",
    "</div>"
   ]
  },
  {
   "cell_type": "code",
   "execution_count": 1,
   "id": "8a7e81ce",
   "metadata": {},
   "outputs": [],
   "source": [
    "# import libraries\n",
    "from more_itertools import unique_everseen\n",
    "from selenium.common.exceptions import NoSuchElementException, ElementNotInteractableException\n",
    "from selenium.webdriver.common.by import By\n",
    "from unidecode import unidecode\n",
    "from selenium.webdriver.common.keys import Keys\n",
    "from selenium import webdriver\n",
    "import undetected_chromedriver as uc \n",
    "import pandas as pd\n",
    "import time\n",
    "import csv"
   ]
  },
  {
   "cell_type": "markdown",
   "id": "cf496117",
   "metadata": {},
   "source": [
    "<div class=\"alert alert-block alert-success\" style=\"font-family: Times New Roman; font-size:17px\">\n",
    "Functions\n",
    "</div>"
   ]
  },
  {
   "cell_type": "code",
   "execution_count": 2,
   "id": "ea4c615f",
   "metadata": {},
   "outputs": [],
   "source": [
    "def scrape_reviews(url, csv_name, df):\n",
    "    driver.get(url)\n",
    "    flag = None\n",
    "    for i in range(0,20):\n",
    "        try:\n",
    "            button = driver.find_element(By.XPATH, \"//button/div/p[@class='color-secondary-500']\")\n",
    "            button.click()\n",
    "            print(\"all reviews loaded\")\n",
    "            flag = True\n",
    "            break\n",
    "        except:\n",
    "            None\n",
    "        \n",
    "    \n",
    "    # create data frame and list of reviews\n",
    "    \n",
    "    list_of_reviews = driver.find_elements(By.XPATH, './/article[@class=\"py-3 mt-0-lg d-flex ai-start br-list-vertical-no-padding-200\"]')\n",
    "    \n",
    "    # scrape web information and format them\n",
    "    for review in list_of_reviews:\n",
    "        try:\n",
    "            rating_persian = review.find_element(By.CSS_SELECTOR, '.p-1.radius-small.text-caption-strong.color-000.d-flex.jc-center.ai-center').text\n",
    "        except:\n",
    "            continue\n",
    "        rating_str = unidecode(rating_persian)\n",
    "        rating = float(rating_str)\n",
    "        \n",
    "        try:\n",
    "            text = review.find_element(By.XPATH, \".//p[@class='text-body-1 color-900 mb-1 pt-3 break-words']\").text\n",
    "        except:\n",
    "            continue\n",
    "    \n",
    "        if rating<4:\n",
    "            sentiment=0\n",
    "        else:\n",
    "            sentiment=1\n",
    "\n",
    "        new_series=pd.Series({\"rating\":rating, \"text\":text, \"sentiment\":sentiment})\n",
    "        df = pd.concat([df, new_series.to_frame().T], ignore_index=True)\n",
    "    \n",
    "    df.to_csv(csv_name, mode = 'a', index = False, header = False, sep = \"\\t\")\n",
    "    return flag"
   ]
  },
  {
   "cell_type": "code",
   "execution_count": 3,
   "id": "97dcddcf",
   "metadata": {},
   "outputs": [],
   "source": [
    "def iterative_scraping(url, csv_name, df):\n",
    "    flag = scrape_reviews(url, csv_name, df)\n",
    "    print(flag)\n",
    "    \n",
    "    if(flag):\n",
    "        list_of_footnote_pages = driver.find_elements(By.XPATH, \".//div[@class='font-body d-flex jc-center ai-center']/span[@class='d-flex w-9 h-9 jc-center ai-center radius-circle m-1 text-body2-strong pointer !hover:border border-r-700 pointer styles_PageNumberButton__yPGpm']\")\n",
    "        if(len(list_of_footnote_pages)>0):\n",
    "            num_footnote = list_of_footnote_pages[-1].find_element(By.TAG_NAME, \"span\").text\n",
    "            num_footnote_str = unidecode(num_footnote)\n",
    "            num = int(num_footnote_str)\n",
    "            \n",
    "            for i in range(num):\n",
    "                for i in range(0,20):\n",
    "                    try:\n",
    "                        button_next = driver.find_element(By.XPATH, \"//div[@class='font-body  d-flex jc-center ai-center color-primary-700 pointer mr-2 pl-3 flex-row-reverse']\")\n",
    "                        button_next.click()\n",
    "                        print(\"all reviews loaded\")\n",
    "                        flag = True\n",
    "                        break\n",
    "                    except:\n",
    "                        None\n",
    "                \n",
    "                list_of_reviews = driver.find_elements(By.XPATH, './/article[@class=\"py-3 mt-0-lg d-flex ai-start br-list-vertical-no-padding-200\"]')\n",
    "    \n",
    "                # scrape web information and format them\n",
    "                for review in list_of_reviews:\n",
    "                    try:\n",
    "                        rating_persian = review.find_element(By.CSS_SELECTOR, '.p-1.radius-small.text-caption-strong.color-000.d-flex.jc-center.ai-center').text\n",
    "                    except:\n",
    "                        continue\n",
    "                    rating_str = unidecode(rating_persian)\n",
    "                    rating = float(rating_str)\n",
    "        \n",
    "                    try:\n",
    "                        text = review.find_element(By.XPATH, \".//p[@class='text-body-1 color-900 mb-1 pt-3 break-words']\").text\n",
    "                    except:\n",
    "                        continue\n",
    "    \n",
    "                    if rating<4:\n",
    "                        sentiment=0\n",
    "                    else:\n",
    "                        sentiment=1\n",
    "\n",
    "                    new_series=pd.Series({\"rating\":rating, \"text\":text, \"sentiment\":sentiment})\n",
    "                    df = pd.concat([df, new_series.to_frame().T], ignore_index=True)\n",
    "    \n",
    "            df.to_csv(csv_name, mode = 'a', index = False, header = False, sep = \"\\t\")\n",
    "                "
   ]
  },
  {
   "cell_type": "markdown",
   "id": "8c875265",
   "metadata": {},
   "source": [
    "<div class=\"alert alert-block alert-success\" style=\"font-family: Times New Roman; font-size:17px\">\n",
    "Keywords\n",
    "</div>"
   ]
  },
  {
   "cell_type": "code",
   "execution_count": 4,
   "id": "f4503276",
   "metadata": {},
   "outputs": [
    {
     "name": "stdout",
     "output_type": "stream",
     "text": [
      "Please enter keywords: موبایل شیائومی\n",
      "Please enter csv file name: xiaomi_phone\n"
     ]
    }
   ],
   "source": [
    "key_words = input(\"Please enter keywords: \")\n",
    "file_name = input(\"Please enter csv file name: \")\n",
    "\n",
    "df = pd.DataFrame(columns=[\"rating\",\"text\",\"sentiment\"])\n",
    "headerList = [\"rating\",\"text\",\"sentiment\"]\n",
    "\n",
    "csv_file_name = file_name + \".csv\"\n",
    "f = open(csv_file_name, 'w')\n",
    "f.close()"
   ]
  },
  {
   "cell_type": "markdown",
   "id": "b57c7782",
   "metadata": {},
   "source": [
    "<div class=\"alert alert-block alert-success\" style=\"font-family: Times New Roman; font-size:17px\">\n",
    "Defining undetected chrome driver\n",
    "</div>"
   ]
  },
  {
   "cell_type": "code",
   "execution_count": null,
   "id": "ff9d764c",
   "metadata": {},
   "outputs": [],
   "source": [
    "# define undetected chromedriver\n",
    "options = uc.ChromeOptions() \n",
    "options.add_argument(\"--headless=new\")\n",
    "driver = uc.Chrome(options=options)\n",
    "driver = uc.Chrome() \n",
    "\n",
    "driver.implicitly_wait(0.5)\n",
    "\n",
    "url = \"https://www.digikala.com/\"\n",
    "driver.get(url)"
   ]
  },
  {
   "cell_type": "markdown",
   "id": "f840d2f4",
   "metadata": {},
   "source": [
    "<div class=\"alert alert-block alert-success\" style=\"font-family: Times New Roman; font-size:17px\">\n",
    "Search Field\n",
    "</div>"
   ]
  },
  {
   "cell_type": "code",
   "execution_count": null,
   "id": "f04203de",
   "metadata": {},
   "outputs": [],
   "source": [
    "search_bar = driver.find_element(By.XPATH, \".//div[@class='d-flex ai-center SearchInput_SearchInput__HB9qi SearchInput_SearchInput__searchInput__CEpaj ellipsis bg-100 grow-1 radius px-2 px-4-lg text-body-2']\")\n",
    "search_bar.click()\n",
    "input_search = driver.find_element(By.XPATH, \".//input[@class='px-2 TextField_TextField__input__hFMFl text-subtitle w-100 TextField_TextField__bwN9_ TextField_TextField--primary__IZ6Ku color-500 text-body-2 text-body-2']\")"
   ]
  },
  {
   "cell_type": "code",
   "execution_count": null,
   "id": "94e4b67e",
   "metadata": {},
   "outputs": [],
   "source": [
    "input_search.send_keys(key_words)\n",
    "time.sleep(0.2)\n",
    "input_search.send_keys(Keys.ENTER)"
   ]
  },
  {
   "cell_type": "code",
   "execution_count": null,
   "id": "8bbd11d4",
   "metadata": {},
   "outputs": [],
   "source": [
    "for i in range(10):\n",
    "    driver.execute_script(\"window.scrollTo(100, 8250);\")\n",
    "    time.sleep(3)\n",
    "    driver.execute_script(\"window.scrollTo(8250, 100);\")\n",
    "    time.sleep(1)"
   ]
  },
  {
   "cell_type": "markdown",
   "id": "122ace25",
   "metadata": {},
   "source": [
    "<div class=\"alert alert-block alert-success\" style=\"font-family: Times New Roman; font-size:17px\">\n",
    "Choosing product\n",
    "</div>"
   ]
  },
  {
   "cell_type": "code",
   "execution_count": null,
   "id": "1542ad21",
   "metadata": {},
   "outputs": [],
   "source": [
    "list_of_products = driver.find_elements(By.XPATH, \".//div[@class='product-list_ProductList__item__LiiNI']\")\n",
    "list_products_names = []\n",
    "list_products_url =[]\n",
    "for product in list_of_products:\n",
    "    product_name = product.find_element(By.XPATH, \".//h3[@class='ellipsis-2 text-body2-strong color-700 styles_VerticalProductCard__productTitle__6zjjN']\").text\n",
    "    product_url = product.find_element(By.XPATH, \".//a[@class='d-block pointer pos-relative bg-000 overflow-hidden grow-1 py-3 px-4 px-2-lg h-full-md styles_VerticalProductCard--hover__ud7aD']\").get_attribute(\"href\")\n",
    "    \n",
    "    if product_name in list_products_names:\n",
    "        continue\n",
    "    else:\n",
    "        list_products_names.append(product_name)\n",
    "        list_products_url.append(product_url)"
   ]
  },
  {
   "cell_type": "code",
   "execution_count": null,
   "id": "58534d4e",
   "metadata": {},
   "outputs": [],
   "source": [
    "print(\"Number of products: \", len(list_products_names))"
   ]
  },
  {
   "cell_type": "code",
   "execution_count": null,
   "id": "4e88de03",
   "metadata": {},
   "outputs": [],
   "source": [
    "for purl in list_products_url:\n",
    "    iterative_scraping(purl, csv_file_name, df)\n",
    "\n",
    "    \n",
    "with open(csv_file_name, 'w') as file:\n",
    "    dw = csv.DictWriter(file, delimiter=',', \n",
    "                        fieldnames=headerList)\n",
    "    dw.writeheader()\n",
    "\n",
    "file.close()"
   ]
  }
 ],
 "metadata": {
  "kernelspec": {
   "display_name": "Python 3 (ipykernel)",
   "language": "python",
   "name": "python3"
  },
  "language_info": {
   "codemirror_mode": {
    "name": "ipython",
    "version": 3
   },
   "file_extension": ".py",
   "mimetype": "text/x-python",
   "name": "python",
   "nbconvert_exporter": "python",
   "pygments_lexer": "ipython3",
   "version": "3.10.10"
  }
 },
 "nbformat": 4,
 "nbformat_minor": 5
}
